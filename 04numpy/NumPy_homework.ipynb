{
 "cells": [
  {
   "cell_type": "code",
   "execution_count": 38,
   "metadata": {},
   "outputs": [],
   "source": [
    "from matplotlib import pyplot\n",
    "%matplotlib inline"
   ]
  },
  {
   "cell_type": "code",
   "execution_count": 39,
   "metadata": {},
   "outputs": [],
   "source": [
    "import generator\n",
    "maze = generator.create_maze()"
   ]
  },
  {
   "cell_type": "code",
   "execution_count": 40,
   "metadata": {},
   "outputs": [
    {
     "data": {
      "text/plain": [
       "<matplotlib.image.AxesImage at 0x7f8728a4e6a0>"
      ]
     },
     "execution_count": 40,
     "metadata": {},
     "output_type": "execute_result"
    },
    {
     "data": {
      "image/png": "[encoded data removed]",
      "text/plain": [
       "<Figure size 432x288 with 1 Axes>"
      ]
     },
     "metadata": {},
     "output_type": "display_data"
    }
   ],
   "source": [
    "pyplot.imshow(maze)"
   ]
  },
  {
   "cell_type": "code",
   "execution_count": 41,
   "metadata": {},
   "outputs": [
    {
     "data": {
      "text/plain": [
       "array([[-1, -1, -1, -1, -1, -1, -1, -1, -1, -1, -1, -1, -1, -1, -1],\n",
       "       [-1,  1,  0,  0,  0,  0,  0,  0,  0,  0,  0,  0,  0,  0, -1],\n",
       "       [-1,  0, -1, -1, -1, -1, -1, -1, -1, -1, -1,  0, -1,  0, -1],\n",
       "       [-1,  0,  0,  0, -1,  0,  0,  0,  0,  0, -1,  0, -1,  0, -1],\n",
       "       [-1,  0, -1, -1, -1,  0, -1, -1, -1,  0, -1,  0, -1,  0, -1],\n",
       "       [-1,  0, -1,  0,  0,  0, -1,  0,  0,  0, -1,  0, -1,  0, -1],\n",
       "       [-1,  0, -1,  0, -1, -1, -1, -1, -1,  0, -1,  0, -1,  0, -1],\n",
       "       [-1,  0, -1,  0, -1,  0,  0,  0, -1,  0, -1,  0, -1,  0, -1],\n",
       "       [-1,  0, -1, -1, -1, -1, -1,  0, -1,  0, -1,  0, -1,  0, -1],\n",
       "       [-1,  0,  0,  0,  0,  0, -1,  0, -1,  0, -1,  0,  0,  0, -1],\n",
       "       [-1,  0, -1, -1, -1, -1, -1,  0, -1,  0, -1, -1, -1,  0, -1],\n",
       "       [-1,  0, -1,  0,  0,  0,  0,  0, -1,  0,  0,  0, -1,  0, -1],\n",
       "       [-1,  0, -1, -1, -1, -1, -1,  0, -1,  0, -1, -1, -1,  0, -1],\n",
       "       [-1,  0,  0,  0,  0,  0,  0,  0,  0,  0,  0,  0,  0,  0, -1],\n",
       "       [-1, -1, -1, -1, -1, -1, -1, -1, -1, -1, -1, -1, -1, -1, -1]],\n",
       "      dtype=int8)"
      ]
     },
     "execution_count": 41,
     "metadata": {},
     "output_type": "execute_result"
    }
   ],
   "source": [
    "maze"
   ]
  },
  {
   "cell_type": "code",
   "execution_count": 42,
   "metadata": {},
   "outputs": [
    {
     "data": {
      "text/plain": [
       "(15, 15)"
      ]
     },
     "execution_count": 42,
     "metadata": {},
     "output_type": "execute_result"
    }
   ],
   "source": [
    "maze.shape"
   ]
  },
  {
   "cell_type": "code",
   "execution_count": 43,
   "metadata": {},
   "outputs": [
    {
     "data": {
      "text/plain": [
       "<matplotlib.image.AxesImage at 0x7f8728a8a2e8>"
      ]
     },
     "execution_count": 43,
     "metadata": {},
     "output_type": "execute_result"
    },
    {
     "data": {
      "image/png": "[encoded data removed]",
      "text/plain": [
       "<Figure size 432x288 with 1 Axes>"
      ]
     },
     "metadata": {},
     "output_type": "display_data"
    }
   ],
   "source": [
    "pyplot.imshow(maze)"
   ]
  },
  {
   "cell_type": "markdown",
   "metadata": {},
   "source": []
  },
  {
   "cell_type": "code",
   "execution_count": 46,
   "metadata": {},
   "outputs": [
    {
     "data": {
      "text/plain": [
       "array([[False, False, False, False, False, False, False, False, False,\n",
       "        False, False, False, False, False, False],\n",
       "       [False,  True,  True,  True,  True,  True,  True,  True,  True,\n",
       "         True,  True,  True,  True,  True, False],\n",
       "       [False,  True, False, False, False, False, False, False, False,\n",
       "        False, False,  True, False,  True, False],\n",
       "       [False,  True,  True,  True, False,  True,  True,  True,  True,\n",
       "         True, False,  True, False,  True, False],\n",
       "       [False,  True, False, False, False,  True, False, False, False,\n",
       "         True, False,  True, False,  True, False],\n",
       "       [False,  True, False,  True,  True,  True, False,  True,  True,\n",
       "         True, False,  True, False,  True, False],\n",
       "       [False,  True, False,  True, False, False, False, False, False,\n",
       "         True, False,  True, False,  True, False],\n",
       "       [False,  True, False,  True, False,  True,  True,  True, False,\n",
       "         True, False,  True, False,  True, False],\n",
       "       [False,  True, False, False, False, False, False,  True, False,\n",
       "         True, False,  True, False,  True, False],\n",
       "       [False,  True,  True,  True,  True,  True, False,  True, False,\n",
       "         True, False,  True,  True,  True, False],\n",
       "       [False,  True, False, False, False, False, False,  True, False,\n",
       "         True, False, False, False,  True, False],\n",
       "       [False,  True, False,  True,  True,  True,  True,  True, False,\n",
       "         True,  True,  True, False,  True, False],\n",
       "       [False,  True, False, False, False, False, False,  True, False,\n",
       "         True, False, False, False,  True, False],\n",
       "       [False,  True,  True,  True,  True,  True,  True,  True,  True,\n",
       "         True,  True,  True,  True,  True, False],\n",
       "       [False, False, False, False, False, False, False, False, False,\n",
       "        False, False, False, False, False, False]])"
      ]
     },
     "execution_count": 46,
     "metadata": {},
     "output_type": "execute_result"
    }
   ],
   "source": [
    "free_space = maze > -1\n",
    "free_space"
   ]
  },
  {
   "cell_type": "code",
   "execution_count": null,
   "metadata": {},
   "outputs": [],
   "source": []
  }
 ],
 "metadata": {
  "kernelspec": {
   "display_name": "Python 3",
   "language": "python",
   "name": "python3"
  },
  "language_info": {
   "codemirror_mode": {
    "name": "ipython",
    "version": 3
   },
   "file_extension": ".py",
   "mimetype": "text/x-python",
   "name": "python",
   "nbconvert_exporter": "python",
   "pygments_lexer": "ipython3",
   "version": "3.5.3"
  }
 },
 "nbformat": 4,
 "nbformat_minor": 2
}
